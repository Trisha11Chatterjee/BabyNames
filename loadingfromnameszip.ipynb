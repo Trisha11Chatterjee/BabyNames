{
  "nbformat": 4,
  "nbformat_minor": 0,
  "metadata": {
    "colab": {
      "provenance": []
    },
    "kernelspec": {
      "name": "python3",
      "display_name": "Python 3"
    },
    "language_info": {
      "name": "python"
    }
  },
  "cells": [
    {
      "cell_type": "code",
      "execution_count": 5,
      "metadata": {
        "colab": {
          "base_uri": "https://localhost:8080/"
        },
        "id": "6rGKApF0WmNG",
        "outputId": "36b707bf-3480-457a-f8a4-7c6fc4ea4caf"
      },
      "outputs": [
        {
          "output_type": "stream",
          "name": "stdout",
          "text": [
            "names  names.zip  sample_data  yob2011.txt\n",
            "NationalReadMe.pdf  yob1899.txt  yob1919.txt  yob1939.txt  yob1959.txt\tyob1979.txt  yob1999.txt\n",
            "yob1880.txt\t    yob1900.txt  yob1920.txt  yob1940.txt  yob1960.txt\tyob1980.txt  yob2000.txt\n",
            "yob1881.txt\t    yob1901.txt  yob1921.txt  yob1941.txt  yob1961.txt\tyob1981.txt  yob2001.txt\n",
            "yob1882.txt\t    yob1902.txt  yob1922.txt  yob1942.txt  yob1962.txt\tyob1982.txt  yob2002.txt\n",
            "yob1883.txt\t    yob1903.txt  yob1923.txt  yob1943.txt  yob1963.txt\tyob1983.txt  yob2003.txt\n",
            "yob1884.txt\t    yob1904.txt  yob1924.txt  yob1944.txt  yob1964.txt\tyob1984.txt  yob2004.txt\n",
            "yob1885.txt\t    yob1905.txt  yob1925.txt  yob1945.txt  yob1965.txt\tyob1985.txt  yob2005.txt\n",
            "yob1886.txt\t    yob1906.txt  yob1926.txt  yob1946.txt  yob1966.txt\tyob1986.txt  yob2006.txt\n",
            "yob1887.txt\t    yob1907.txt  yob1927.txt  yob1947.txt  yob1967.txt\tyob1987.txt  yob2007.txt\n",
            "yob1888.txt\t    yob1908.txt  yob1928.txt  yob1948.txt  yob1968.txt\tyob1988.txt  yob2008.txt\n",
            "yob1889.txt\t    yob1909.txt  yob1929.txt  yob1949.txt  yob1969.txt\tyob1989.txt  yob2009.txt\n",
            "yob1890.txt\t    yob1910.txt  yob1930.txt  yob1950.txt  yob1970.txt\tyob1990.txt  yob2010.txt\n",
            "yob1891.txt\t    yob1911.txt  yob1931.txt  yob1951.txt  yob1971.txt\tyob1991.txt  yob2011.txt\n",
            "yob1892.txt\t    yob1912.txt  yob1932.txt  yob1952.txt  yob1972.txt\tyob1992.txt  yob2012.txt\n",
            "yob1893.txt\t    yob1913.txt  yob1933.txt  yob1953.txt  yob1973.txt\tyob1993.txt  yob2013.txt\n",
            "yob1894.txt\t    yob1914.txt  yob1934.txt  yob1954.txt  yob1974.txt\tyob1994.txt  yob2014.txt\n",
            "yob1895.txt\t    yob1915.txt  yob1935.txt  yob1955.txt  yob1975.txt\tyob1995.txt  yob2015.txt\n",
            "yob1896.txt\t    yob1916.txt  yob1936.txt  yob1956.txt  yob1976.txt\tyob1996.txt  yob2016.txt\n",
            "yob1897.txt\t    yob1917.txt  yob1937.txt  yob1957.txt  yob1977.txt\tyob1997.txt  yob2017.txt\n",
            "yob1898.txt\t    yob1918.txt  yob1938.txt  yob1958.txt  yob1978.txt\tyob1998.txt  yob2018.txt\n",
            "<class 'pandas.core.frame.DataFrame'>\n",
            "Index: 1957046 entries, 0 to 32032\n",
            "Data columns (total 4 columns):\n",
            " #   Column  Dtype \n",
            "---  ------  ----- \n",
            " 0   name    object\n",
            " 1   sex     object\n",
            " 2   number  int64 \n",
            " 3   year    int64 \n",
            "dtypes: int64(2), object(2)\n",
            "memory usage: 74.7+ MB\n"
          ]
        }
      ],
      "source": [
        "# 07_02: Loading Baby Names\n",
        "\n",
        "# Ensure Python version compatibility (3.6 or higher recommended)\n",
        "# Import required libraries\n",
        "import math\n",
        "import collections\n",
        "import numpy as np\n",
        "import pandas as pd\n",
        "import matplotlib.pyplot as pp\n",
        "\n",
        "# Set up inline plotting for Jupyter Notebook\n",
        "%matplotlib inline\n",
        "\n",
        "# Adjust pandas display options\n",
        "pd.options.display.max_rows = 8\n",
        "\n",
        "# Import zipfile module to handle compressed data\n",
        "import zipfile\n",
        "\n",
        "# Extract the compressed file containing names data\n",
        "zipfile.ZipFile('names.zip').extractall('.')\n",
        "\n",
        "# List the files in the current directory\n",
        "!ls\n",
        "\n",
        "# List the files in the extracted 'names' directory\n",
        "!ls names\n",
        "\n",
        "# Preview the first 10 lines of the file for the year 2011\n",
        "open('/content/yob2011.txt', 'r').readlines()[:10]\n",
        "\n",
        "# Load the CSV file into a pandas DataFrame with default settings\n",
        "pd.read_csv('/content/yob2011.txt')\n",
        "\n",
        "# Load the CSV file with specified column names\n",
        "pd.read_csv('/content/yob2011.txt', names=['name', 'sex', 'number'])\n",
        "\n",
        "# Load the CSV file and add a new column \"year\" with a fixed value (2011)\n",
        "pd.read_csv('/content/yob2011.txt', names=['name', 'sex', 'number']).assign(year=2011)\n",
        "\n",
        "# Combine data from all years (1880-2018) into a single DataFrame\n",
        "# Assigns the year dynamically based on the filename\n",
        "allyears = pd.concat(\n",
        "    pd.read_csv(f'names/yob{year}.txt', names=['name', 'sex', 'number']).assign(year=year)\n",
        "    for year in range(1880, 2019)\n",
        ")\n",
        "\n",
        "# Display information about the combined DataFrame\n",
        "allyears.info()\n",
        "\n",
        "# Check the range of years in the dataset\n",
        "allyears.year.min(), allyears.year.max()\n",
        "\n",
        "# Save the combined DataFrame to a compressed CSV file, dropping the index\n",
        "allyears.to_csv('allyears.csv.gz', index=False)\n"
      ]
    }
  ]
}